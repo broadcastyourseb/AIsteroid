{
 "cells": [
  {
   "cell_type": "markdown",
   "metadata": {},
   "source": [
    "# AIsteroid\n",
    "[http://bit.ly/aisteroid](http://bit.ly/aisteroid)"
   ]
  },
  {
   "cell_type": "code",
   "execution_count": 1,
   "metadata": {},
   "outputs": [],
   "source": [
    "from aisteroid import *\n",
    "%matplotlib nbagg"
   ]
  },
  {
   "cell_type": "markdown",
   "metadata": {},
   "source": [
    "## Task: Stitch fields"
   ]
  },
  {
   "cell_type": "markdown",
   "metadata": {},
   "source": [
    "### Choose the image set"
   ]
  },
  {
   "cell_type": "code",
   "execution_count": 42,
   "metadata": {},
   "outputs": [],
   "source": [
    "if QIPY:\n",
    "    CONF.SET_LIST=\"sets.list\" ##List of image sets to compile information\n",
    "    CONF.SET_LIST=\"sets-NEA.list\" ##List of image sets to compile information\n",
    "    CONF.SET_LIST=\"sets-jan2018.list\" ##List of image sets to compile information\n",
    "    CONF.CAMPAIGN=\"jan2018\"\n",
    "    CONF.VERBOSE=0\n",
    "    CONF.OVERWRITE=0"
   ]
  },
  {
   "cell_type": "markdown",
   "metadata": {},
   "source": [
    "#### DO NOT TOUCH IF YOU ARE NOT SURE"
   ]
  },
  {
   "cell_type": "code",
   "execution_count": 39,
   "metadata": {},
   "outputs": [
    {
     "name": "stdout",
     "output_type": "stream",
     "text": [
      "************************************************************\n",
      "STITCHING IMAGES FOR SET LIST 'sets-jan2018.list'\n",
      "************************************************************\n"
     ]
    }
   ],
   "source": [
    "print0(\"*\"*60+\"\\nSTITCHING IMAGES FOR SET LIST '%s'\\n\"%CONF.SET_LIST+\"*\"*60)\n",
    "\n",
    "if not os.path.isfile(CONF.SET_LIST):\n",
    "    error(\"Set list '%s' does not exist\"%CONF.SET_LIST)\n",
    "    \n",
    "SET_LIST_NAME=CONF.SET_LIST.split(\"/\")[-1].replace(\".list\",\"\")\n",
    "TEAMS_FILE=CONF.DATA_DIR+\"sets/teams-%s.txt\"%CONF.CAMPAIGN\n",
    "CAMPS_FILE=CONF.DATA_DIR+\"sets/campaign-%s.txt\"%CONF.CAMPAIGN\n",
    "\n",
    "REP_FILE=SET_LIST_NAME+\"-report.aia\"\n",
    "if os.path.isfile(REP_FILE):\n",
    "    REP=pickle.load(open(REP_FILE,\"rb\"))\n",
    "    sets=REP[\"sets\"]\n",
    "    allobjects=REP[\"allobjects\"]\n",
    "else:\n",
    "    error(\"You must run first the report\")"
   ]
  },
  {
   "cell_type": "markdown",
   "metadata": {},
   "source": [
    "### Generate transformation and polygons"
   ]
  },
  {
   "cell_type": "code",
   "execution_count": 44,
   "metadata": {},
   "outputs": [
    {
     "name": "stdout",
     "output_type": "stream",
     "text": [
      "Generating transformations and polygons\n",
      "\tPolygons already calculated.\n"
     ]
    }
   ],
   "source": [
    "print0(\"Generating transformations and polygons\")\n",
    "if not \"pols\" in REP.keys() or CONF.OVERWRITE:\n",
    "    wcs=dict()\n",
    "    pols=dict()\n",
    "    for i,ind in enumerate(sets.index):\n",
    "        iset=sets.loc[ind]\n",
    "        set_name=iset[\"set_name\"]\n",
    "        print(\"\\tAnalysing set %d '%s'\"%(i,set_name))\n",
    "\n",
    "        #Get data for set\n",
    "        OUT_DIR=CONF.SCR_DIR+set_name+\"/\"\n",
    "        if not os.path.isdir(OUT_DIR):\n",
    "            print0(\"\\t\\tSet %s not yet unpacked. Skipping\"%set_name)\n",
    "            continue\n",
    "        AIA_FILE=OUT_DIR+\"%s.aia\"%(set_name)\n",
    "        if not os.path.isfile(AIA_FILE):\n",
    "            print0(\"\\t\\tSet %s not yet analysed. Skipping\"%set_name)\n",
    "            continue\n",
    "\n",
    "        AIA=pickle.load(open(AIA_FILE,\"rb\"))\n",
    "        images=AIA[\"images\"]\n",
    "        nimgs=len(images)\n",
    "        print1(\"\\t\\tNumber of images:\",len(images))\n",
    "        borders=AIA[\"borders\"]\n",
    "        print1(\"\\t\\tNumber of border points:\",len(borders[0]))\n",
    "        sources=AIA[\"sources\"]\n",
    "        print1(\"\\t\\tNumber of sources:\",len(sources[sources.IMG==0]))\n",
    "        objects=AIA[\"objects\"]\n",
    "        nobj=len(objects)\n",
    "        print1(\"\\t\\tNumber of objects:\",nobj)\n",
    "\n",
    "        #Check dateini \n",
    "        date_ini=iset[\"date_ini\"]\n",
    "        if not date_ini in pols.keys():\n",
    "            pols[date_ini]=[]\n",
    "            wcs[date_ini]=[]\n",
    "\n",
    "        #Fint transformation from x,y to RA,DEC\n",
    "        tr=AffineTransform()\n",
    "        bright=sources[sources.MAG_ASTRO<20]\n",
    "        status=tr.estimate(bright[[\"X_IMAGE\",\"Y_IMAGE\"]].values,\n",
    "                           bright[[\"RA\",\"DEC\"]].values)\n",
    "\n",
    "        #Box\n",
    "        ny,nx=images[0][\"data\"].shape\n",
    "        bs=polygonGen(0,0,nx,ny,7,4)\n",
    "        bsky=np.array([tr(bs[i,:])[0] for i in range(bs.shape[0])])\n",
    "        pol=pat.Polygon(bsky,closed=True,color='r',alpha=0.2)\n",
    "\n",
    "        #Preserve\n",
    "        pols[date_ini]+=[pol]\n",
    "        wcs[date_ini]+=[tr]\n",
    "\n",
    "        if i>30:break\n",
    "    \n",
    "    #Save\n",
    "    REP[\"pols\"]=pols\n",
    "    REP[\"wcs\"]=wcs\n",
    "    pickle.dump(REP,open(REP_FILE,\"wb\"))\n",
    "    print0(\"Done.\")\n",
    "else:\n",
    "    print(\"\\tPolygons already calculated.\")\n",
    "    pols=REP[\"pols\"]\n",
    "    wcs=REP[\"wcs\"]"
   ]
  },
  {
   "cell_type": "markdown",
   "metadata": {},
   "source": [
    "### Show Polygons"
   ]
  },
  {
   "cell_type": "code",
   "execution_count": null,
   "metadata": {},
   "outputs": [],
   "source": [
    "plotfile=PLOT_DIR+\"stitch-%s.png\"%CONF.SET\n",
    "\n",
    "if CONF.QPLOT:\n",
    "    plt.ioff() ##Comment to see interactive figure\n",
    "\n",
    "    print0(\"Showing potential moving sources\")\n",
    "    if not os.path.isfile(plotfile) or CONF.OVERWRITE:"
   ]
  },
  {
   "cell_type": "code",
   "execution_count": 85,
   "metadata": {},
   "outputs": [],
   "source": [
    "poly_proj = Polygon(bs)"
   ]
  },
  {
   "cell_type": "code",
   "execution_count": 88,
   "metadata": {},
   "outputs": [],
   "source": [
    "point=Point([3000,1000])"
   ]
  },
  {
   "cell_type": "code",
   "execution_count": 89,
   "metadata": {},
   "outputs": [
    {
     "data": {
      "text/plain": [
       "False"
      ]
     },
     "execution_count": 89,
     "metadata": {},
     "output_type": "execute_result"
    }
   ],
   "source": [
    "point.within(poly_proj)"
   ]
  },
  {
   "cell_type": "code",
   "execution_count": null,
   "metadata": {},
   "outputs": [],
   "source": [
    "fig,axs=plt.subplots(1,1,figsize=(5,5))"
   ]
  }
 ],
 "metadata": {
  "kernelspec": {
   "display_name": "Python 3",
   "language": "python",
   "name": "python3"
  },
  "language_info": {
   "codemirror_mode": {
    "name": "ipython",
    "version": 3
   },
   "file_extension": ".py",
   "mimetype": "text/x-python",
   "name": "python",
   "nbconvert_exporter": "python",
   "pygments_lexer": "ipython3",
   "version": "3.5.2"
  }
 },
 "nbformat": 4,
 "nbformat_minor": 2
}
