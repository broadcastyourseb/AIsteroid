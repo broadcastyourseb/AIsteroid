{
 "cells": [
  {
   "cell_type": "markdown",
   "metadata": {},
   "source": [
    "# Read input catalogue and create CSV"
   ]
  },
  {
   "cell_type": "code",
   "execution_count": 1,
   "metadata": {},
   "outputs": [],
   "source": [
    "import pandas as pd\n",
    "import collections"
   ]
  },
  {
   "cell_type": "code",
   "execution_count": 4,
   "metadata": {},
   "outputs": [
    {
     "name": "stdout",
     "output_type": "stream",
     "text": [
      "All objects: 1058332\n",
      "\n",
      "Database Tycho: \n",
      "Original objects: 1058332 \n",
      "Discarded objects: 0 \n",
      "Final objects: 1058332\n"
     ]
    }
   ],
   "source": [
    "names_tyc={}\n",
    "names_tyc[1] = \"tycho2_id\"\n",
    "names_tyc[8] = \"ra_tyc\"\n",
    "names_tyc[9] = \"dec_tyc\"\n",
    "names_tyc[11] = \"parallax_tyc\"\n",
    "names_tyc[12] = \"pmra_tyc\"\n",
    "names_tyc[13] = \"pmdec_tyc\"\n",
    "names_tyc[14] = \"ra_error_tyc\"\n",
    "names_tyc[15] = \"dec_error_tyc\"\n",
    "names_tyc[16] = \"parallax_error_tyc\"\n",
    "names_tyc[17] = \"pmra_error_tyc\"\n",
    "names_tyc[18] = \"pmdec_error_tyc\"\n",
    "names_tyc[19] = \"ra_dec_corr_tyc\"\n",
    "names_tyc[20] = \"ra_parallax_corr_tyc\"\n",
    "names_tyc[21] = \"dec_parallax_corr_tyc\"\n",
    "names_tyc[22] = \"ra_pmra_corr_tyc\"\n",
    "names_tyc[23] = \"dec_pmra_corr_tyc\"\n",
    "names_tyc[24] = \"parallax_pmra_corr_tyc\"\n",
    "names_tyc[25] = \"ra_pmdec_corr_tyc\"\n",
    "names_tyc[26] = \"dec_pmdec_corr_tyc\"\n",
    "names_tyc[27] = \"parallax_pmdec_corr_tyc\"\n",
    "names_tyc[28] = \"pmra_pmdec_corr_tyc\"\n",
    "names_tyc[53] = \"HenryDraperId_tyc\"\n",
    "names_tyc[5] = \"Vmag_tyc\"\n",
    "\n",
    "names_tyc = collections.OrderedDict(sorted(names_tyc.items()))\n",
    "\n",
    "tycho = pd.read_csv(\"tyc_main.zip\", delimiter=\"|\", usecols = names_tyc.keys(), names = names_tyc.values())\n",
    "\n",
    "print(\"All objects:\",len(tycho))\n",
    "# Split original tycho-id header which separated by white-space\n",
    "tycho[\"a\"], tycho[\"b\"], tycho[\"c\"] = tycho[\"tycho2_id\"].str.split().str\n",
    "\n",
    "# Concatenate tycho-id headers using \"-\"\n",
    "tycho[\"tycho2_id\"] = tycho[\"a\"] + \"-\" + tycho[\"b\"] + \"-\" + tycho[\"c\"]\n",
    "\n",
    "# Delete auxiliar columns used in conversion\n",
    "del tycho[\"a\"], tycho[\"b\"], tycho[\"c\"]\n",
    "\n",
    "# Columns format\n",
    "cols = tycho.columns.tolist()\n",
    "objects = [\"tycho2_id\", \"HenryDraperId_tyc\"]\n",
    "cols = [x for x in cols if x not in objects]\n",
    "tycho[cols] = tycho[cols].apply(pd.to_numeric, errors='coerce')\n",
    "\n",
    "# Delete null astrometry values\n",
    "n1 = len(tycho)\n",
    "tycho.dropna(subset=[\"ra_tyc\", \"dec_tyc\"], how=\"any\", inplace=True)\n",
    "n2 = len(tycho)\n",
    "print(\"\\nDatabase Tycho:\", \"\\nOriginal objects:\", n1,\"\\nDiscarded objects:\", n1-n2,\"\\nFinal objects:\", n2)"
   ]
  },
  {
   "cell_type": "code",
   "execution_count": 7,
   "metadata": {},
   "outputs": [],
   "source": [
    "tycho.to_csv(\"tycho2.csv\",index=False)"
   ]
  },
  {
   "cell_type": "code",
   "execution_count": null,
   "metadata": {},
   "outputs": [],
   "source": [
    "tycho2=pd.read_csv(DATA_DIR + \"cat/tycho2.csv.gz\")"
   ]
  }
 ],
 "metadata": {
  "kernelspec": {
   "display_name": "Python 3",
   "language": "python",
   "name": "python3"
  }
 },
 "nbformat": 4,
 "nbformat_minor": 2
}
