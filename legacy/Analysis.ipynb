{
 "cells": [
  {
   "cell_type": "code",
   "execution_count": 1,
   "metadata": {},
   "outputs": [],
   "source": [
    "import numpy as np\n",
    "from astropy.io import fits\n",
    "from sys import argv,exit"
   ]
  },
  {
   "cell_type": "markdown",
   "metadata": {},
   "source": [
    "## Instructions"
   ]
  },
  {
   "cell_type": "markdown",
   "metadata": {},
   "source": [
    "To use astrometry to solve field of an image:\n",
    "\n",
    "Simple use:\n",
    "\n",
    "    solve-field --overwrite o8010g0344o.1300829.ch.1992525.XY36.p00.fits \n",
    "\n",
    "Accelerated:\n",
    "\n",
    "    solve-field --no-plots --guess-scale --overwrite o8010g0344o.1300829.ch.1992525.XY36.p00.fits\n",
    "    \n",
    "If an estimation of the field center is given:\n",
    "\n",
    "    solve-field --no-plots --ra 354.456325 --dec -4.094019166 --radius 1 --guess-scale --overwrite o8010g0344o.1300829.ch.1992525.XY36.p00.fits\n",
    "    \n",
    "Where the center of the image can be extracted from the image header using the following python code:\n",
    "\n",
    "    sex2dec=lambda s:np.sign(float(s.split()[0]))*(np.array([np.abs(float(x)) for x in s.split()]).dot([1.0,1/60.0,1/3600.]).sum())\n",
    "    hdul=fits.open('%s'%filename)\n",
    "    ra=hdul[0].header[\"OBJCTRA\"]\n",
    "    dec=hdul[0].header[\"OBJCTDEC\"]\n",
    "    radeg=sex2dec(ra)*15\n",
    "    decdeg=sex2dec(dec)\n",
    "    print(\"--ra %.7f --dec %.7f --radius 1\"%(radeg,decdeg))\n",
    "\n",
    "Using SEXtractor:\n",
    "    \n",
    "Choose the columns for the output in the file sex.conf.\n",
    "    \n",
    "Simple:\n",
    "    \n",
    "    sex o8010g0344o.1300829.ch.1992525.XY36.p00.fits"
   ]
  },
  {
   "cell_type": "markdown",
   "metadata": {},
   "source": [
    "## Useful routines"
   ]
  },
  {
   "cell_type": "code",
   "execution_count": 8,
   "metadata": {},
   "outputs": [],
   "source": [
    "sex2dec=lambda s:np.sign(float(s.split()[0]))*(np.array([np.abs(float(x)) for x in s.split()]).dot([1.0,1/60.0,1/3600.]).sum())"
   ]
  },
  {
   "cell_type": "markdown",
   "metadata": {},
   "source": [
    "## Sources identified by astrometry"
   ]
  },
  {
   "cell_type": "code",
   "execution_count": 5,
   "metadata": {},
   "outputs": [
    {
     "name": "stdout",
     "output_type": "stream",
     "text": [
      "Number of detected objects:  377\n",
      "Number of identified objects: 38\n",
      "Object 0: (483.72,1332.95), ra = 23.64269, def = -4.04180\n",
      "Object 1: (1809.22,2356.62), ra = 23.64735, def = -4.13862\n",
      "Object 2: (264.02,1351.28), ra = 23.64281, def = -4.02619\n",
      "Object 3: (2029.61,279.66), ra = 23.63745, def = -4.14970\n",
      "Object 4: (2238.64,1070.46), ra = 23.64118, def = -4.16619\n",
      "Object 5: (886.38,325.52), ra = 23.63785, def = -4.06831\n",
      "Object 6: (1819.13,2342.41), ra = 23.64729, def = -4.13929\n",
      "Object 7: (1934.44,627.83), ra = 23.63913, def = -4.14361\n",
      "Object 8: (2114.53,2348.45), ra = 23.64727, def = -4.16031\n",
      "Object 9: (585.93,2218.99), ra = 23.64687, def = -4.05123\n",
      "Object 10: (1147.24,1721.24), ra = 23.64443, def = -4.08997\n",
      "Object 11: (726.22,560.09), ra = 23.63898, def = -4.05738\n",
      "Object 12: (2119.32,2042.59), ra = 23.64582, def = -4.15990\n",
      "Object 13: (217.44,28.94), ra = 23.63654, def = -4.02000\n",
      "Object 14: (1604.81,650.25), ra = 23.63928, def = -4.12018\n",
      "Object 15: (1045.96,267.18), ra = 23.63754, def = -4.07957\n",
      "Object 16: (64.81,674.68), ra = 23.63963, def = -4.01046\n",
      "Object 17: (253.48,1141.05), ra = 23.64181, def = -4.02495\n",
      "Object 18: (1765.97,1125.41), ra = 23.64152, def = -4.13267\n",
      "Object 19: (2191.92,2349.60), ra = 23.64727, def = -4.16581\n",
      "Object 20: (190.29,1550.12), ra = 23.64376, def = -4.02141\n",
      "Object 21: (2330.88,1495.90), ra = 23.64319, def = -4.17369\n",
      "Object 22: (948.23,2160.62), ra = 23.64655, def = -4.07687\n",
      "Object 23: (2403.27,1943.11), ra = 23.64531, def = -4.17986\n",
      "Object 24: (1793.62,881.90), ra = 23.64035, def = -4.13411\n",
      "Object 25: (774.97,1722.86), ra = 23.64450, def = -4.06347\n",
      "Object 26: (2194.75,1709.71), ra = 23.64423, def = -4.16449\n",
      "Object 27: (1419.31,768.33), ra = 23.63987, def = -4.10721\n",
      "Object 28: (386.19,1672.79), ra = 23.64431, def = -4.03566\n",
      "Object 29: (523.17,2356.25), ra = 23.64753, def = -4.04712\n",
      "Object 30: (72.12,1299.28), ra = 23.64259, def = -4.01239\n",
      "Object 31: (1152.28,2393.45), ra = 23.64762, def = -4.09198\n",
      "Object 32: (629.10,1595.34), ra = 23.64391, def = -4.05278\n",
      "Object 33: (65.43,1465.32), ra = 23.64338, def = -4.01231\n",
      "Object 34: (767.90,1199.43), ra = 23.64201, def = -4.06175\n",
      "Object 35: (1142.35,2146.53), ra = 23.64645, def = -4.09066\n",
      "Object 36: (616.93,1634.53), ra = 23.64410, def = -4.05200\n",
      "Object 37: (1071.71,1329.84), ra = 23.64259, def = -4.08368\n"
     ]
    }
   ],
   "source": [
    "#READ SOURCES\n",
    "basename=\"o8010g0344o.1300829.ch.1992525.XY36.p00\"\n",
    "hdul_xy=fits.open('%s.axy'%basename)\n",
    "\n",
    "print(\"Number of detected objects: \",hdul_xy[1].data.shape[0])\n",
    "hdul_xy.close()\n",
    "\n",
    "#IDENTIFIED OBJECTS\n",
    "hdul_objs=fits.open('%s-indx.xyls'%basename)\n",
    "data_objs=hdul_objs[1].data\n",
    "objs=[]\n",
    "for obj in hdul_objs[1].data:\n",
    "    objs+=[[obj[0],obj[1]]]\n",
    "objs=np.array(objs)\n",
    "hdul_objs.close()\n",
    "\n",
    "#COORDINATE OF OBJECTS\n",
    "hdul_crd=fits.open('%s.rdls'%basename)\n",
    "crds=[]\n",
    "for i,crd in enumerate(hdul_crd[1].data):\n",
    "    crds+=[[crd[0]/15,crd[1]]]\n",
    "crds=np.array(crds)\n",
    "hdul_crd.close()\n",
    "\n",
    "print(\"Number of identified objects:\",len(objs))\n",
    "\n",
    "for i in range(len(objs)):\n",
    "    print(\"Object %d: (%.2f,%.2f), ra = %.5f, def = %.5f\"%(i,objs[i,0],objs[i,1],crds[i,0],crds[i,1]))"
   ]
  },
  {
   "cell_type": "code",
   "execution_count": null,
   "metadata": {},
   "outputs": [],
   "source": []
  }
 ],
 "metadata": {
  "kernelspec": {
   "display_name": "Python 3",
   "language": "python",
   "name": "python3"
  },
  "language_info": {
   "codemirror_mode": {
    "name": "ipython",
    "version": 3
   },
   "file_extension": ".py",
   "mimetype": "text/x-python",
   "name": "python",
   "nbconvert_exporter": "python",
   "pygments_lexer": "ipython3",
   "version": "3.5.2"
  }
 },
 "nbformat": 4,
 "nbformat_minor": 2
}
