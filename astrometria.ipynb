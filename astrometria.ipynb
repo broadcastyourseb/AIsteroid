{
 "cells": [
  {
   "cell_type": "markdown",
   "metadata": {},
   "source": [
    "# AIsteroid\n",
    "[http://bit.ly/aisteroid](http://bit.ly/aisteroid)"
   ]
  },
  {
   "cell_type": "code",
   "execution_count": 2,
   "metadata": {},
   "outputs": [],
   "source": [
    "from aisteroid import *\n",
    "%matplotlib nbagg"
   ]
  },
  {
   "cell_type": "markdown",
   "metadata": {},
   "source": [
    "## Task: Perform astrometry of images"
   ]
  },
  {
   "cell_type": "markdown",
   "metadata": {},
   "source": [
    "### Choose the image set"
   ]
  },
  {
   "cell_type": "code",
   "execution_count": 3,
   "metadata": {},
   "outputs": [],
   "source": [
    "if QIPY:\n",
    "    #listImages() ##See the list of imagesets\n",
    "    #CONF.SET=\"example\" ##Choose your preferred imageset\n",
    "    #CONF.CFG=\"example\" ##You choose your preferred observatory configuration (example.cfg)\n",
    "    CONF.OVERWRITE=1 ##Overwrite all previous actions\n",
    "    CONF.VERBOSE=1 ## Show all outputs\n",
    "    #CONF.SET='ps1-20180108_2_set199'"
   ]
  },
  {
   "cell_type": "markdown",
   "metadata": {},
   "source": [
    "#### DO NOT TOUCH IF YOU ARE NOT SURE"
   ]
  },
  {
   "cell_type": "code",
   "execution_count": 4,
   "metadata": {},
   "outputs": [
    {
     "name": "stdout",
     "output_type": "stream",
     "text": [
      "************************************************************\n",
      "ASTROMETRY OF IMAGE SET'example'\n",
      "************************************************************\n"
     ]
    }
   ],
   "source": [
    "#DO NOT MODIFY THIS LINES\n",
    "print0(\"*\"*60+\"\\nASTROMETRY OF IMAGE SET'%s'\\n\"%CONF.SET+\"*\"*60)\n",
    "\n",
    "OUT_DIR=CONF.SCR_DIR+CONF.SET+\"/\"\n",
    "if not os.path.isdir(OUT_DIR):\n",
    "    error(\"Set '%s' has not been unpacked\"%CONF.SET)\n",
    "\n",
    "CFG=[line.rstrip('\\n') for line in open(CONF.SETS_DIR+CONF.CFG+\".cfg\")]\n",
    "\n",
    "PLOT_DIR=OUT_DIR+\"plots/\"\n",
    "FLOG=open(OUT_DIR+\"astrometria.log\",\"a\")\n",
    "SYSOPTS=dict(qexit=[True,FLOG])\n",
    "\n",
    "AIA_FILE=OUT_DIR+CONF.SET+\".aia\"\n",
    "if not os.path.isfile(AIA_FILE):\n",
    "    error(\"Detect task not ran yet on set '%s'\"%CONF.SET)\n",
    "else:\n",
    "    AIA=pickle.load(open(AIA_FILE,\"rb\"))\n",
    "    images=AIA[\"images\"]\n",
    "    sources=AIA[\"sources\"]\n",
    "    borders=AIA[\"borders\"]\n",
    "    nimgs=len(images)\n",
    "    if nimgs==1:\n",
    "        error(\"Analysis can't be ran with only just 1 image\")"
   ]
  },
  {
   "cell_type": "markdown",
   "metadata": {},
   "source": [
    "### Telescope and camera (detector) properties"
   ]
  },
  {
   "cell_type": "code",
   "execution_count": 5,
   "metadata": {},
   "outputs": [
    {
     "name": "stdout",
     "output_type": "stream",
     "text": [
      "Telescope & CCD Properties:\n",
      "\tFocal lenght (mm) : 8070.0\n",
      "\tPixel size (x mm,y mm) : 0.01 0.01\n",
      "\tImage size (x px,y px) : 2423 2434\n",
      "\tPixel size (arcsec): 0.255594555449\n",
      "\tCamera field (x deg,y deg) : 0.172029335514 0.172810318878\n",
      "\tDone.\n"
     ]
    }
   ],
   "source": [
    "print0(\"Telescope & CCD Properties:\")\n",
    "if not \"detector\" in AIA.keys() or CONF.OVERWRITE:\n",
    "    #Telescope and camera (detector) properties\n",
    "    detector=dictObj(dict())\n",
    "    detector.FOCAL=Config(CFG,\"FocalLength\") #mm\n",
    "    detector.PW=Config(CFG,\"PixelWide\") #mm\n",
    "    detector.PH=Config(CFG,\"PixelHigh\") #mm\n",
    "    detector.SIZEX=images[0][\"header\"][\"NAXIS1\"]\n",
    "    detector.SIZEY=images[0][\"header\"][\"NAXIS2\"]\n",
    "    detector.PWD=np.arctan(detector.PW/detector.FOCAL)*RAD\n",
    "    detector.PHD=np.arctan(detector.PW/detector.FOCAL)*RAD\n",
    "    detector.PXSIZE=(detector.PWD+detector.PHD)/2\n",
    "    \n",
    "    \n",
    "    AIA[\"detector\"]=detector\n",
    "    pickle.dump(AIA,open(AIA_FILE,\"wb\"))\n",
    "else:\n",
    "    print(\"\\tDetector properties already extracted\")\n",
    "    AIA=pickle.load(open(AIA_FILE,\"rb\"))\n",
    "    detector=AIA[\"detector\"]\n",
    "\n",
    "print0(\"\\tFocal lenght (mm) :\",detector.FOCAL)\n",
    "print0(\"\\tPixel size (x mm,y mm) :\",detector.PW,detector.PH)\n",
    "print0(\"\\tImage size (x px,y px) :\",detector.SIZEX,detector.SIZEY)\n",
    "print0(\"\\tPixel size (arcsec):\",detector.PXSIZE/ARCSEC)\n",
    "print0(\"\\tCamera field (x deg,y deg) :\",detector.SIZEX*detector.PWD,detector.SIZEY*detector.PHD)\n",
    "print(\"\\tDone.\")"
   ]
  },
  {
   "cell_type": "markdown",
   "metadata": {},
   "source": [
    "### Download stars in the field of the image set"
   ]
  },
  {
   "cell_type": "code",
   "execution_count": 6,
   "metadata": {},
   "outputs": [
    {
     "name": "stdout",
     "output_type": "stream",
     "text": [
      "Stars in the field covered by the images\n",
      "\tNumber of reference stars found: 383\n",
      "\tDone.\n"
     ]
    }
   ],
   "source": [
    "print(\"Stars in the field covered by the images\")\n",
    "\n",
    "if not \"stars\" in AIA.keys() or CONF.OVERWRITE:\n",
    "    \n",
    "    rmin=sources[\"ALPHA_J2000\"].min()\n",
    "    rmax=sources[\"ALPHA_J2000\"].max()\n",
    "    dmin=sources[\"DELTA_J2000\"].min()\n",
    "    dmax=sources[\"DELTA_J2000\"].max()\n",
    "    rmean=(rmin+rmax)/2;dr=(rmax-rmin)/2\n",
    "    dmean=(dmin+dmax)/2;dd=(dmax-dmin)/2\n",
    "    ra=dec2sex(rmean/15)\n",
    "    dec=dec2sex(dmean)\n",
    "    ras=\"%d %d %.2f\"%(int(ra[0]),int(ra[1]),ra[2])\n",
    "    des=\"%d %d %.2f\"%(int(dec[0]),int(dec[1]),dec[2])\n",
    "    radius=np.sqrt(dr**2+dd**2)\n",
    "\n",
    "    columns=['_RAJ2000','_DEJ2000','R1mag']\n",
    "    v=Vizier(columns=columns)\n",
    "    v.ROW_LIMIT=-1\n",
    "\n",
    "    result=v.query_region(\"%s %s\"%(ras,des),\n",
    "                          width=Angle(2*dr,\"deg\"),height=Angle(2*dd,\"deg\"),\n",
    "                          catalog='USNOB1')[0]\n",
    "    cond=result[\"R1mag\"]>0\n",
    "    stars=pd.DataFrame(rec2arr(result[cond]),\n",
    "                       columns=[\"ALPHA_J2000\",\"DELTA_J2000\",\"Rmag\"])\n",
    "    \n",
    "    AIA[\"stars\"]=stars\n",
    "    pickle.dump(AIA,open(AIA_FILE,\"wb\"))\n",
    "else:\n",
    "    print(\"\\tStars already detected\")\n",
    "    stars=AIA[\"stars\"]\n",
    "print(\"\\tNumber of reference stars found:\",len(stars))\n",
    "print(\"\\tDone.\")\n",
    "FLOG.write(\"Number of stars in the field: %d\\n\"%len(stars))\n",
    "FLOG.flush()"
   ]
  },
  {
   "cell_type": "markdown",
   "metadata": {},
   "source": [
    "### Show stars in the field"
   ]
  },
  {
   "cell_type": "code",
   "execution_count": 7,
   "metadata": {},
   "outputs": [
    {
     "name": "stdout",
     "output_type": "stream",
     "text": [
      "Showing stars in the field\n",
      "\tDone.\n"
     ]
    },
    {
     "data": {
      "image/png": "[encoded data removed]",
      "text/plain": [
       "<IPython.core.display.Image object>"
      ]
     },
     "execution_count": 7,
     "metadata": {},
     "output_type": "execute_result"
    }
   ],
   "source": [
    "plotfile=PLOT_DIR+\"stars-%s.png\"%CONF.SET\n",
    "\n",
    "if CONF.QPLOT:\n",
    "    plt.ioff() ##Comment to see interactive figure\n",
    "\n",
    "    print0(\"Showing stars in the field\")\n",
    "    if not os.path.isfile(plotfile) or CONF.OVERWRITE:\n",
    "\n",
    "        iimg=0\n",
    "        imgsources=sources[sources.IMG==iimg][sources.MAG_BEST<-12]\n",
    "        fig,axs=plt.subplots(1,1,sharex=True,sharey=True,figsize=(7,7))\n",
    "        ax=axs\n",
    "\n",
    "        #Show the sources\n",
    "        ax.plot(imgsources[\"ALPHA_J2000\"],imgsources[\"DELTA_J2000\"],'ro',ms=5,mfc='None')\n",
    "        ax.plot(stars[\"ALPHA_J2000\"],stars[\"DELTA_J2000\"],'b*',ms=5)\n",
    "\n",
    "        fig.tight_layout()\n",
    "        fig.savefig(plotfile)\n",
    "    else:\n",
    "        if CONF.QPLOT:print0(\"\\tImage '%s' already generated.\"%plotfile)\n",
    "    print0(\"\\tDone.\")\n",
    "Image(filename=plotfile)"
   ]
  },
  {
   "cell_type": "markdown",
   "metadata": {},
   "source": [
    "### Matching detected stars with sources"
   ]
  },
  {
   "cell_type": "code",
   "execution_count": 8,
   "metadata": {},
   "outputs": [
    {
     "name": "stdout",
     "output_type": "stream",
     "text": [
      "Matching stars\n",
      "\tMatching for image o8009g0075o.1299949.ch.1991737.XY51.p10\n",
      "\t\tNumber of selected bright stars: 20\n",
      "\t\tPresent average distance to stars: 11.8760787406\n",
      "\t\tMatching parameters: [ 0.00355096  0.15645567]\n",
      "\t\tImproved average distance: 1.70302121488\n",
      "\t\tAligning\n",
      "\t\t\tSuccess: True\n",
      "\t\tAverage distance to stars after astrometry: 1.15533501779\n",
      "\tMatching for image o8009g0096o.1299970.ch.1991758.XY51.p10\n",
      "\t\tNumber of selected bright stars: 20\n",
      "\t\tPresent average distance to stars: 11.8912451798\n",
      "\t\tMatching parameters: [ 0.00354497  0.16217656]\n",
      "\t\tImproved average distance: 1.78250805833\n",
      "\t\tAligning\n",
      "\t\t\tSuccess: True\n",
      "\t\tAverage distance to stars after astrometry: 1.142794575\n",
      "\tMatching for image o8009g0117o.1299991.ch.1991779.XY51.p10\n",
      "\t\tNumber of selected bright stars: 20\n",
      "\t\tPresent average distance to stars: 11.9463633044\n",
      "\t\tMatching parameters: [ 0.00358032  0.14751285]\n",
      "\t\tImproved average distance: 1.69072466499\n",
      "\t\tAligning\n",
      "\t\t\tSuccess: True\n",
      "\t\tAverage distance to stars after astrometry: 1.2101492353\n",
      "\tMatching for image o8009g0138o.1300012.ch.1991800.XY51.p10\n",
      "\t\tNumber of selected bright stars: 20\n",
      "\t\tPresent average distance to stars: 11.9004085445\n",
      "\t\tMatching parameters: [ 0.00357674  0.14723956]\n",
      "\t\tImproved average distance: 1.66862971415\n",
      "\t\tAligning\n",
      "\t\t\tSuccess: True\n",
      "\t\tAverage distance to stars after astrometry: 1.21699637613\n",
      "\tDone.\n"
     ]
    }
   ],
   "source": [
    "print(\"Matching stars\")\n",
    "\n",
    "if len(sources[sources.STAR>0])==0 or CONF.OVERWRITE:\n",
    "    \n",
    "    if CONF.OVERWRITE:sources[\"STAR\"]=0\n",
    "    \n",
    "    #Fields with coordinates\n",
    "    a=\"ALPHA_J2000\"\n",
    "    d=\"DELTA_J2000\"\n",
    "    x=\"X_IMAGE\"\n",
    "    y=\"Y_IMAGE\"\n",
    "    cs=[x,y]\n",
    "\n",
    "    for i,image in enumerate(images):\n",
    "        file=image[\"file\"]\n",
    "        imgsources=sources[sources.IMG==i]\n",
    "        border=borders[i]\n",
    "        \n",
    "        #Comparing set of sources\n",
    "        print(\"\\tMatching for image %s\"%file)  \n",
    "\n",
    "        #Choose the first NREFSTARS far from defects\n",
    "        nbright=0\n",
    "        indbright=[]\n",
    "        for ind in imgsources.index:\n",
    "            dmin=(np.sqrt((imgsources.loc[ind,x]-border[:,0])**2+\\\n",
    "                          (imgsources.loc[ind,y]-border[:,1])**2)).min()\n",
    "            if dmin<2*CONF.RADIUS:continue\n",
    "            indbright+=[ind]\n",
    "            nbright+=1\n",
    "            if nbright>=CONF.NREFSTARS:break\n",
    "        \n",
    "        bright=imgsources.loc[indbright]\n",
    "        nbright=len(bright)\n",
    "\n",
    "        print0(\"\\t\\tNumber of selected bright stars:\",len(bright))\n",
    "\n",
    "        adist=distanceSets([0,0],bright,stars,a,d)/nbright/ARCSEC\n",
    "        print1(\"\\t\\tPresent average distance to stars:\",adist)\n",
    "        FLOG.write(\"Average error before astrometry in image %d: %f\\n\"%(i,adist))\n",
    "\n",
    "        #Find optimal translation\n",
    "        solution=minimize(distanceSets,[0,0],method='Nelder-Mead',tol=1e-6,args=(bright,stars,a,d))\n",
    "        image[\"translation\"]=solution.x\n",
    "\n",
    "        print1(\"\\t\\tMatching parameters:\",image[\"translation\"])\n",
    "        print1(\"\\t\\tImproved average distance:\",distanceSets(image[\"translation\"],bright,stars,a,d)/nbright/ARCSEC)\n",
    "\n",
    "        #Translate position of stars\n",
    "        bright[[a,d]]=[translation2D(image[\"translation\"],[alpha,delta])\\\n",
    "                                     for alpha,delta in zip(bright[a],bright[d])]\n",
    "\n",
    "        #Match bright sources and stars\n",
    "        stars_ind=matchSets(bright,stars,a,d)\n",
    "        zeros=stars.loc[stars_ind,\"Rmag\"].values-bright[\"MAG_BEST\"].values\n",
    "        image[\"zeropoint\"]=zeros.mean()\n",
    "        image[\"zerostd\"]=zeros.std()\n",
    "        FLOG.write(\"Zeropoint = %.2f\\n\"%image[\"zeropoint\"])\n",
    "        FLOG.write(\"Zeropoint error = %.2f\\n\"%image[\"zerostd\"])\n",
    "\n",
    "        #Aligning positions\n",
    "        print1(\"\\t\\tAligning\")    \n",
    "        tr=SimilarityTransform()\n",
    "        status=tr.estimate(bright[[a,d]].values,stars.loc[stars_ind,[a,d]].values)\n",
    "        print1(\"\\t\\t\\tSuccess:\",status)\n",
    "        image[\"astrometry\"]=tr\n",
    "\n",
    "        #Alligning all sources\n",
    "        xy=imgsources[[a,d]].values\n",
    "        xya=[]\n",
    "        for j in range(xy.shape[0]):\n",
    "            xyr=xy[j,:]\n",
    "            xyr=translation2D(image[\"translation\"],xyr)\n",
    "            xyr=image[\"astrometry\"](xyr).tolist()\n",
    "            xya+=xyr\n",
    "        xya=np.array(xya)\n",
    "\n",
    "        imgsources[[\"RA\",\"DEC\"]]=pd.DataFrame(xya,columns=[\"RA\",\"DEC\"],index=imgsources.index)\n",
    "        sources.loc[sources.IMG==i,[\"RA\",\"DEC\"]]=imgsources\n",
    "        \n",
    "        #Photometric properties\n",
    "        sources.loc[indbright,\"STAR\"]=1\n",
    "        sources.loc[sources.IMG==i,[\"MAG_ASTRO\"]]=imgsources[\"MAG_BEST\"]+image[\"zeropoint\"]\n",
    "        sources.loc[sources.IMG==i,[\"ERR_MAG_ASTRO\"]]=(imgsources[\"MAGERR_BEST\"]**2+image[\"zerostd\"]**2).apply(np.sqrt)\n",
    "\n",
    "        #Last verification\n",
    "        nstars=stars.rename(columns={\"ALPHA_J2000\":\"RA\",\"DELTA_J2000\":\"DEC\"})\n",
    "        imgsources=sources[sources.IMG==i]\n",
    "        bright=imgsources.loc[indbright]\n",
    "        \n",
    "        adist=distanceSets([0,0],bright,nstars,\"RA\",\"DEC\")/nbright/ARCSEC\n",
    "        print1(\"\\t\\tAverage distance to stars after astrometry:\",adist)\n",
    "\n",
    "        FLOG.write(\"Average error after astrometry in image %d: %f\\n\"%(i,adist))\n",
    "        \n",
    "    AIA[\"sources\"]=sources\n",
    "    AIA[\"images\"]=images\n",
    "    pickle.dump(AIA,open(AIA_FILE,\"wb\"))    \n",
    "else:\n",
    "    print(\"Stars already matched.\")\n",
    "    sources=AIA[\"sources\"]\n",
    "print(\"\\tDone.\")\n",
    "FLOG.flush()"
   ]
  },
  {
   "cell_type": "markdown",
   "metadata": {},
   "source": [
    "### Show bright image alignment"
   ]
  },
  {
   "cell_type": "code",
   "execution_count": null,
   "metadata": {},
   "outputs": [],
   "source": [
    "plotfile=PLOT_DIR+\"starsalignment-%s.png\"%CONF.SET\n",
    "\n",
    "if CONF.QPLOT:\n",
    "    plt.ioff() ##Comment to see interactive figure\n",
    "\n",
    "    print0(\"Showing stars in the field\")\n",
    "    if not os.path.isfile(plotfile) or CONF.OVERWRITE:\n",
    "\n",
    "        fig,axs=plt.subplots(nimgs,2,figsize=(2*4,4*nimgs))\n",
    "        imgargs=dict(cmap='gray_r',vmin=0,vmax=500)\n",
    "\n",
    "        for i,image in enumerate(images):\n",
    "\n",
    "            imgsources=sources[sources.IMG==i]\n",
    "            bright=imgsources[imgsources.STAR==1]\n",
    "\n",
    "            #Show the sources\n",
    "            axs[i,0].imshow(image[\"data\"],**imgargs)\n",
    "            axs[i,0].plot(bright.loc[bright.index[:]][\"X_IMAGE\"],bright.loc[bright.index[:]][\"Y_IMAGE\"],'ro',ms=5,mfc='None')\n",
    "            axs[i,0].set_title(\"Image %d\"%i)\n",
    "            axs[i,0].set_xticks([])\n",
    "            axs[i,0].set_yticks([]) \n",
    "            \n",
    "            axs[i,1].plot(stars.loc[stars.index[:]][\"ALPHA_J2000\"],stars.loc[stars.index[:]][\"DELTA_J2000\"],'b*',ms=5)\n",
    "            axs[i,1].plot(bright.loc[bright.index[:]][\"RA\"],bright.loc[bright.index[:]][\"DEC\"],'ro',ms=5,mfc='None')\n",
    "\n",
    "            axs[i,1].set_title(\"Image %d\"%i)\n",
    "            axs[i,1].set_xticks([])\n",
    "            axs[i,1].set_yticks([]) \n",
    "            #break\n",
    "\n",
    "        fig.tight_layout()\n",
    "        fig.savefig(plotfile)\n",
    "else:\n",
    "    if CONF.QPLOT:print0(\"\\tImage '%s' already generated.\"%plotfile)\n",
    "print0(\"\\tDone.\")\n",
    "Image(filename=plotfile)"
   ]
  },
  {
   "cell_type": "code",
   "execution_count": null,
   "metadata": {},
   "outputs": [],
   "source": [
    "print0(\"Task completed.\")\n",
    "FLOG.close()"
   ]
  },
  {
   "cell_type": "code",
   "execution_count": null,
   "metadata": {},
   "outputs": [],
   "source": []
  }
 ],
 "metadata": {
  "kernelspec": {
   "display_name": "Python 3",
   "language": "python",
   "name": "python3"
  },
  "language_info": {
   "codemirror_mode": {
    "name": "ipython",
    "version": 3
   },
   "file_extension": ".py",
   "mimetype": "text/x-python",
   "name": "python",
   "nbconvert_exporter": "python",
   "pygments_lexer": "ipython3",
   "version": "3.5.2"
  }
 },
 "nbformat": 4,
 "nbformat_minor": 2
}
